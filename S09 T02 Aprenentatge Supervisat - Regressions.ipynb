{
 "cells": [
  {
   "cell_type": "markdown",
   "id": "4f592fe2",
   "metadata": {},
   "source": [
    "Anem a practicar i a familiaritzar-nos amb regressions.\n",
    "\n",
    "Objectius:\n",
    "- Models de regressió\n",
    "- Àrbres de regressió\n",
    "- Random Forest\n",
    "- Xarxes Neuronals\n",
    "- Altres models\n",
    " \n",
    "Durada: 3 dies\n",
    "\n",
    "Lliurament:\n",
    "Enviar la URL a un repositori anomenat Supervitat_Regressio que contingui la solució. S'ha d'entregar cada Excercici en un mateix fitxer i en un repositori."
   ]
  },
  {
   "cell_type": "code",
   "execution_count": 51,
   "id": "04610adb",
   "metadata": {},
   "outputs": [],
   "source": [
    "import pandas as pd\n",
    "import numpy as np\n",
    "import statsmodels.api as sm\n",
    "\n",
    "from sklearn.linear_model import LinearRegression\n",
    "from sklearn.preprocessing import PolynomialFeatures\n",
    "from sklearn.ensemble import RandomForestRegressor\n",
    "from sklearn.model_selection import train_test_split\n",
    "from sklearn.metrics import mean_squared_error\n",
    "from sklearn.preprocessing import StandardScaler\n",
    "from sklearn.pipeline import Pipeline"
   ]
  },
  {
   "cell_type": "code",
   "execution_count": 52,
   "id": "bfb96bf7",
   "metadata": {},
   "outputs": [],
   "source": [
    "pd.set_option('max_columns', None)\n",
    "raw_df = pd.read_csv('DelayedFlights.csv', sep=\",\", encoding='utf8')"
   ]
  },
  {
   "cell_type": "code",
   "execution_count": 53,
   "id": "855172ea",
   "metadata": {
    "scrolled": true
   },
   "outputs": [
    {
     "data": {
      "text/html": [
       "<div>\n",
       "<style scoped>\n",
       "    .dataframe tbody tr th:only-of-type {\n",
       "        vertical-align: middle;\n",
       "    }\n",
       "\n",
       "    .dataframe tbody tr th {\n",
       "        vertical-align: top;\n",
       "    }\n",
       "\n",
       "    .dataframe thead th {\n",
       "        text-align: right;\n",
       "    }\n",
       "</style>\n",
       "<table border=\"1\" class=\"dataframe\">\n",
       "  <thead>\n",
       "    <tr style=\"text-align: right;\">\n",
       "      <th></th>\n",
       "      <th>Unnamed: 0</th>\n",
       "      <th>Year</th>\n",
       "      <th>Month</th>\n",
       "      <th>DayofMonth</th>\n",
       "      <th>DayOfWeek</th>\n",
       "      <th>DepTime</th>\n",
       "      <th>CRSDepTime</th>\n",
       "      <th>ArrTime</th>\n",
       "      <th>CRSArrTime</th>\n",
       "      <th>UniqueCarrier</th>\n",
       "      <th>FlightNum</th>\n",
       "      <th>TailNum</th>\n",
       "      <th>ActualElapsedTime</th>\n",
       "      <th>CRSElapsedTime</th>\n",
       "      <th>AirTime</th>\n",
       "      <th>ArrDelay</th>\n",
       "      <th>DepDelay</th>\n",
       "      <th>Origin</th>\n",
       "      <th>Dest</th>\n",
       "      <th>Distance</th>\n",
       "      <th>TaxiIn</th>\n",
       "      <th>TaxiOut</th>\n",
       "      <th>Cancelled</th>\n",
       "      <th>CancellationCode</th>\n",
       "      <th>Diverted</th>\n",
       "      <th>CarrierDelay</th>\n",
       "      <th>WeatherDelay</th>\n",
       "      <th>NASDelay</th>\n",
       "      <th>SecurityDelay</th>\n",
       "      <th>LateAircraftDelay</th>\n",
       "    </tr>\n",
       "  </thead>\n",
       "  <tbody>\n",
       "    <tr>\n",
       "      <th>0</th>\n",
       "      <td>0</td>\n",
       "      <td>2008</td>\n",
       "      <td>1</td>\n",
       "      <td>3</td>\n",
       "      <td>4</td>\n",
       "      <td>2003.0</td>\n",
       "      <td>1955</td>\n",
       "      <td>2211.0</td>\n",
       "      <td>2225</td>\n",
       "      <td>WN</td>\n",
       "      <td>335</td>\n",
       "      <td>N712SW</td>\n",
       "      <td>128.0</td>\n",
       "      <td>150.0</td>\n",
       "      <td>116.0</td>\n",
       "      <td>-14.0</td>\n",
       "      <td>8.0</td>\n",
       "      <td>IAD</td>\n",
       "      <td>TPA</td>\n",
       "      <td>810</td>\n",
       "      <td>4.0</td>\n",
       "      <td>8.0</td>\n",
       "      <td>0</td>\n",
       "      <td>N</td>\n",
       "      <td>0</td>\n",
       "      <td>NaN</td>\n",
       "      <td>NaN</td>\n",
       "      <td>NaN</td>\n",
       "      <td>NaN</td>\n",
       "      <td>NaN</td>\n",
       "    </tr>\n",
       "    <tr>\n",
       "      <th>1</th>\n",
       "      <td>1</td>\n",
       "      <td>2008</td>\n",
       "      <td>1</td>\n",
       "      <td>3</td>\n",
       "      <td>4</td>\n",
       "      <td>754.0</td>\n",
       "      <td>735</td>\n",
       "      <td>1002.0</td>\n",
       "      <td>1000</td>\n",
       "      <td>WN</td>\n",
       "      <td>3231</td>\n",
       "      <td>N772SW</td>\n",
       "      <td>128.0</td>\n",
       "      <td>145.0</td>\n",
       "      <td>113.0</td>\n",
       "      <td>2.0</td>\n",
       "      <td>19.0</td>\n",
       "      <td>IAD</td>\n",
       "      <td>TPA</td>\n",
       "      <td>810</td>\n",
       "      <td>5.0</td>\n",
       "      <td>10.0</td>\n",
       "      <td>0</td>\n",
       "      <td>N</td>\n",
       "      <td>0</td>\n",
       "      <td>NaN</td>\n",
       "      <td>NaN</td>\n",
       "      <td>NaN</td>\n",
       "      <td>NaN</td>\n",
       "      <td>NaN</td>\n",
       "    </tr>\n",
       "    <tr>\n",
       "      <th>2</th>\n",
       "      <td>2</td>\n",
       "      <td>2008</td>\n",
       "      <td>1</td>\n",
       "      <td>3</td>\n",
       "      <td>4</td>\n",
       "      <td>628.0</td>\n",
       "      <td>620</td>\n",
       "      <td>804.0</td>\n",
       "      <td>750</td>\n",
       "      <td>WN</td>\n",
       "      <td>448</td>\n",
       "      <td>N428WN</td>\n",
       "      <td>96.0</td>\n",
       "      <td>90.0</td>\n",
       "      <td>76.0</td>\n",
       "      <td>14.0</td>\n",
       "      <td>8.0</td>\n",
       "      <td>IND</td>\n",
       "      <td>BWI</td>\n",
       "      <td>515</td>\n",
       "      <td>3.0</td>\n",
       "      <td>17.0</td>\n",
       "      <td>0</td>\n",
       "      <td>N</td>\n",
       "      <td>0</td>\n",
       "      <td>NaN</td>\n",
       "      <td>NaN</td>\n",
       "      <td>NaN</td>\n",
       "      <td>NaN</td>\n",
       "      <td>NaN</td>\n",
       "    </tr>\n",
       "    <tr>\n",
       "      <th>3</th>\n",
       "      <td>4</td>\n",
       "      <td>2008</td>\n",
       "      <td>1</td>\n",
       "      <td>3</td>\n",
       "      <td>4</td>\n",
       "      <td>1829.0</td>\n",
       "      <td>1755</td>\n",
       "      <td>1959.0</td>\n",
       "      <td>1925</td>\n",
       "      <td>WN</td>\n",
       "      <td>3920</td>\n",
       "      <td>N464WN</td>\n",
       "      <td>90.0</td>\n",
       "      <td>90.0</td>\n",
       "      <td>77.0</td>\n",
       "      <td>34.0</td>\n",
       "      <td>34.0</td>\n",
       "      <td>IND</td>\n",
       "      <td>BWI</td>\n",
       "      <td>515</td>\n",
       "      <td>3.0</td>\n",
       "      <td>10.0</td>\n",
       "      <td>0</td>\n",
       "      <td>N</td>\n",
       "      <td>0</td>\n",
       "      <td>2.0</td>\n",
       "      <td>0.0</td>\n",
       "      <td>0.0</td>\n",
       "      <td>0.0</td>\n",
       "      <td>32.0</td>\n",
       "    </tr>\n",
       "    <tr>\n",
       "      <th>4</th>\n",
       "      <td>5</td>\n",
       "      <td>2008</td>\n",
       "      <td>1</td>\n",
       "      <td>3</td>\n",
       "      <td>4</td>\n",
       "      <td>1940.0</td>\n",
       "      <td>1915</td>\n",
       "      <td>2121.0</td>\n",
       "      <td>2110</td>\n",
       "      <td>WN</td>\n",
       "      <td>378</td>\n",
       "      <td>N726SW</td>\n",
       "      <td>101.0</td>\n",
       "      <td>115.0</td>\n",
       "      <td>87.0</td>\n",
       "      <td>11.0</td>\n",
       "      <td>25.0</td>\n",
       "      <td>IND</td>\n",
       "      <td>JAX</td>\n",
       "      <td>688</td>\n",
       "      <td>4.0</td>\n",
       "      <td>10.0</td>\n",
       "      <td>0</td>\n",
       "      <td>N</td>\n",
       "      <td>0</td>\n",
       "      <td>NaN</td>\n",
       "      <td>NaN</td>\n",
       "      <td>NaN</td>\n",
       "      <td>NaN</td>\n",
       "      <td>NaN</td>\n",
       "    </tr>\n",
       "  </tbody>\n",
       "</table>\n",
       "</div>"
      ],
      "text/plain": [
       "   Unnamed: 0  Year  Month  DayofMonth  DayOfWeek  DepTime  CRSDepTime  \\\n",
       "0           0  2008      1           3          4   2003.0        1955   \n",
       "1           1  2008      1           3          4    754.0         735   \n",
       "2           2  2008      1           3          4    628.0         620   \n",
       "3           4  2008      1           3          4   1829.0        1755   \n",
       "4           5  2008      1           3          4   1940.0        1915   \n",
       "\n",
       "   ArrTime  CRSArrTime UniqueCarrier  FlightNum TailNum  ActualElapsedTime  \\\n",
       "0   2211.0        2225            WN        335  N712SW              128.0   \n",
       "1   1002.0        1000            WN       3231  N772SW              128.0   \n",
       "2    804.0         750            WN        448  N428WN               96.0   \n",
       "3   1959.0        1925            WN       3920  N464WN               90.0   \n",
       "4   2121.0        2110            WN        378  N726SW              101.0   \n",
       "\n",
       "   CRSElapsedTime  AirTime  ArrDelay  DepDelay Origin Dest  Distance  TaxiIn  \\\n",
       "0           150.0    116.0     -14.0       8.0    IAD  TPA       810     4.0   \n",
       "1           145.0    113.0       2.0      19.0    IAD  TPA       810     5.0   \n",
       "2            90.0     76.0      14.0       8.0    IND  BWI       515     3.0   \n",
       "3            90.0     77.0      34.0      34.0    IND  BWI       515     3.0   \n",
       "4           115.0     87.0      11.0      25.0    IND  JAX       688     4.0   \n",
       "\n",
       "   TaxiOut  Cancelled CancellationCode  Diverted  CarrierDelay  WeatherDelay  \\\n",
       "0      8.0          0                N         0           NaN           NaN   \n",
       "1     10.0          0                N         0           NaN           NaN   \n",
       "2     17.0          0                N         0           NaN           NaN   \n",
       "3     10.0          0                N         0           2.0           0.0   \n",
       "4     10.0          0                N         0           NaN           NaN   \n",
       "\n",
       "   NASDelay  SecurityDelay  LateAircraftDelay  \n",
       "0       NaN            NaN                NaN  \n",
       "1       NaN            NaN                NaN  \n",
       "2       NaN            NaN                NaN  \n",
       "3       0.0            0.0               32.0  \n",
       "4       NaN            NaN                NaN  "
      ]
     },
     "execution_count": 53,
     "metadata": {},
     "output_type": "execute_result"
    }
   ],
   "source": [
    "raw_df.head()"
   ]
  },
  {
   "cell_type": "code",
   "execution_count": 54,
   "id": "36c5d5a4",
   "metadata": {
    "scrolled": true
   },
   "outputs": [
    {
     "data": {
      "text/html": [
       "<div>\n",
       "<style scoped>\n",
       "    .dataframe tbody tr th:only-of-type {\n",
       "        vertical-align: middle;\n",
       "    }\n",
       "\n",
       "    .dataframe tbody tr th {\n",
       "        vertical-align: top;\n",
       "    }\n",
       "\n",
       "    .dataframe thead th {\n",
       "        text-align: right;\n",
       "    }\n",
       "</style>\n",
       "<table border=\"1\" class=\"dataframe\">\n",
       "  <thead>\n",
       "    <tr style=\"text-align: right;\">\n",
       "      <th></th>\n",
       "      <th>Unnamed: 0</th>\n",
       "      <th>Year</th>\n",
       "      <th>Month</th>\n",
       "      <th>DayofMonth</th>\n",
       "      <th>DayOfWeek</th>\n",
       "      <th>DepTime</th>\n",
       "      <th>CRSDepTime</th>\n",
       "      <th>ArrTime</th>\n",
       "      <th>CRSArrTime</th>\n",
       "      <th>FlightNum</th>\n",
       "      <th>ActualElapsedTime</th>\n",
       "      <th>CRSElapsedTime</th>\n",
       "      <th>AirTime</th>\n",
       "      <th>ArrDelay</th>\n",
       "      <th>DepDelay</th>\n",
       "      <th>Distance</th>\n",
       "      <th>TaxiIn</th>\n",
       "      <th>TaxiOut</th>\n",
       "      <th>Cancelled</th>\n",
       "      <th>Diverted</th>\n",
       "      <th>CarrierDelay</th>\n",
       "      <th>WeatherDelay</th>\n",
       "      <th>NASDelay</th>\n",
       "      <th>SecurityDelay</th>\n",
       "      <th>LateAircraftDelay</th>\n",
       "    </tr>\n",
       "  </thead>\n",
       "  <tbody>\n",
       "    <tr>\n",
       "      <th>count</th>\n",
       "      <td>1.936758e+06</td>\n",
       "      <td>1936758.0</td>\n",
       "      <td>1.936758e+06</td>\n",
       "      <td>1.936758e+06</td>\n",
       "      <td>1.936758e+06</td>\n",
       "      <td>1.936758e+06</td>\n",
       "      <td>1.936758e+06</td>\n",
       "      <td>1.929648e+06</td>\n",
       "      <td>1.936758e+06</td>\n",
       "      <td>1.936758e+06</td>\n",
       "      <td>1.928371e+06</td>\n",
       "      <td>1.936560e+06</td>\n",
       "      <td>1.928371e+06</td>\n",
       "      <td>1.928371e+06</td>\n",
       "      <td>1.936758e+06</td>\n",
       "      <td>1.936758e+06</td>\n",
       "      <td>1.929648e+06</td>\n",
       "      <td>1.936303e+06</td>\n",
       "      <td>1.936758e+06</td>\n",
       "      <td>1.936758e+06</td>\n",
       "      <td>1.247488e+06</td>\n",
       "      <td>1.247488e+06</td>\n",
       "      <td>1.247488e+06</td>\n",
       "      <td>1.247488e+06</td>\n",
       "      <td>1.247488e+06</td>\n",
       "    </tr>\n",
       "    <tr>\n",
       "      <th>mean</th>\n",
       "      <td>3.341651e+06</td>\n",
       "      <td>2008.0</td>\n",
       "      <td>6.111106e+00</td>\n",
       "      <td>1.575347e+01</td>\n",
       "      <td>3.984827e+00</td>\n",
       "      <td>1.518534e+03</td>\n",
       "      <td>1.467473e+03</td>\n",
       "      <td>1.610141e+03</td>\n",
       "      <td>1.634225e+03</td>\n",
       "      <td>2.184263e+03</td>\n",
       "      <td>1.333059e+02</td>\n",
       "      <td>1.343027e+02</td>\n",
       "      <td>1.082771e+02</td>\n",
       "      <td>4.219988e+01</td>\n",
       "      <td>4.318518e+01</td>\n",
       "      <td>7.656862e+02</td>\n",
       "      <td>6.812975e+00</td>\n",
       "      <td>1.823220e+01</td>\n",
       "      <td>3.268348e-04</td>\n",
       "      <td>4.003598e-03</td>\n",
       "      <td>1.917940e+01</td>\n",
       "      <td>3.703571e+00</td>\n",
       "      <td>1.502164e+01</td>\n",
       "      <td>9.013714e-02</td>\n",
       "      <td>2.529647e+01</td>\n",
       "    </tr>\n",
       "    <tr>\n",
       "      <th>std</th>\n",
       "      <td>2.066065e+06</td>\n",
       "      <td>0.0</td>\n",
       "      <td>3.482546e+00</td>\n",
       "      <td>8.776272e+00</td>\n",
       "      <td>1.995966e+00</td>\n",
       "      <td>4.504853e+02</td>\n",
       "      <td>4.247668e+02</td>\n",
       "      <td>5.481781e+02</td>\n",
       "      <td>4.646347e+02</td>\n",
       "      <td>1.944702e+03</td>\n",
       "      <td>7.206007e+01</td>\n",
       "      <td>7.134144e+01</td>\n",
       "      <td>6.864261e+01</td>\n",
       "      <td>5.678472e+01</td>\n",
       "      <td>5.340250e+01</td>\n",
       "      <td>5.744797e+02</td>\n",
       "      <td>5.273595e+00</td>\n",
       "      <td>1.433853e+01</td>\n",
       "      <td>1.807562e-02</td>\n",
       "      <td>6.314722e-02</td>\n",
       "      <td>4.354621e+01</td>\n",
       "      <td>2.149290e+01</td>\n",
       "      <td>3.383305e+01</td>\n",
       "      <td>2.022714e+00</td>\n",
       "      <td>4.205486e+01</td>\n",
       "    </tr>\n",
       "    <tr>\n",
       "      <th>min</th>\n",
       "      <td>0.000000e+00</td>\n",
       "      <td>2008.0</td>\n",
       "      <td>1.000000e+00</td>\n",
       "      <td>1.000000e+00</td>\n",
       "      <td>1.000000e+00</td>\n",
       "      <td>1.000000e+00</td>\n",
       "      <td>0.000000e+00</td>\n",
       "      <td>1.000000e+00</td>\n",
       "      <td>0.000000e+00</td>\n",
       "      <td>1.000000e+00</td>\n",
       "      <td>1.400000e+01</td>\n",
       "      <td>-2.500000e+01</td>\n",
       "      <td>0.000000e+00</td>\n",
       "      <td>-1.090000e+02</td>\n",
       "      <td>6.000000e+00</td>\n",
       "      <td>1.100000e+01</td>\n",
       "      <td>0.000000e+00</td>\n",
       "      <td>0.000000e+00</td>\n",
       "      <td>0.000000e+00</td>\n",
       "      <td>0.000000e+00</td>\n",
       "      <td>0.000000e+00</td>\n",
       "      <td>0.000000e+00</td>\n",
       "      <td>0.000000e+00</td>\n",
       "      <td>0.000000e+00</td>\n",
       "      <td>0.000000e+00</td>\n",
       "    </tr>\n",
       "    <tr>\n",
       "      <th>25%</th>\n",
       "      <td>1.517452e+06</td>\n",
       "      <td>2008.0</td>\n",
       "      <td>3.000000e+00</td>\n",
       "      <td>8.000000e+00</td>\n",
       "      <td>2.000000e+00</td>\n",
       "      <td>1.203000e+03</td>\n",
       "      <td>1.135000e+03</td>\n",
       "      <td>1.316000e+03</td>\n",
       "      <td>1.325000e+03</td>\n",
       "      <td>6.100000e+02</td>\n",
       "      <td>8.000000e+01</td>\n",
       "      <td>8.200000e+01</td>\n",
       "      <td>5.800000e+01</td>\n",
       "      <td>9.000000e+00</td>\n",
       "      <td>1.200000e+01</td>\n",
       "      <td>3.380000e+02</td>\n",
       "      <td>4.000000e+00</td>\n",
       "      <td>1.000000e+01</td>\n",
       "      <td>0.000000e+00</td>\n",
       "      <td>0.000000e+00</td>\n",
       "      <td>0.000000e+00</td>\n",
       "      <td>0.000000e+00</td>\n",
       "      <td>0.000000e+00</td>\n",
       "      <td>0.000000e+00</td>\n",
       "      <td>0.000000e+00</td>\n",
       "    </tr>\n",
       "    <tr>\n",
       "      <th>50%</th>\n",
       "      <td>3.242558e+06</td>\n",
       "      <td>2008.0</td>\n",
       "      <td>6.000000e+00</td>\n",
       "      <td>1.600000e+01</td>\n",
       "      <td>4.000000e+00</td>\n",
       "      <td>1.545000e+03</td>\n",
       "      <td>1.510000e+03</td>\n",
       "      <td>1.715000e+03</td>\n",
       "      <td>1.705000e+03</td>\n",
       "      <td>1.543000e+03</td>\n",
       "      <td>1.160000e+02</td>\n",
       "      <td>1.160000e+02</td>\n",
       "      <td>9.000000e+01</td>\n",
       "      <td>2.400000e+01</td>\n",
       "      <td>2.400000e+01</td>\n",
       "      <td>6.060000e+02</td>\n",
       "      <td>6.000000e+00</td>\n",
       "      <td>1.400000e+01</td>\n",
       "      <td>0.000000e+00</td>\n",
       "      <td>0.000000e+00</td>\n",
       "      <td>2.000000e+00</td>\n",
       "      <td>0.000000e+00</td>\n",
       "      <td>2.000000e+00</td>\n",
       "      <td>0.000000e+00</td>\n",
       "      <td>8.000000e+00</td>\n",
       "    </tr>\n",
       "    <tr>\n",
       "      <th>75%</th>\n",
       "      <td>4.972467e+06</td>\n",
       "      <td>2008.0</td>\n",
       "      <td>9.000000e+00</td>\n",
       "      <td>2.300000e+01</td>\n",
       "      <td>6.000000e+00</td>\n",
       "      <td>1.900000e+03</td>\n",
       "      <td>1.815000e+03</td>\n",
       "      <td>2.030000e+03</td>\n",
       "      <td>2.014000e+03</td>\n",
       "      <td>3.422000e+03</td>\n",
       "      <td>1.650000e+02</td>\n",
       "      <td>1.650000e+02</td>\n",
       "      <td>1.370000e+02</td>\n",
       "      <td>5.600000e+01</td>\n",
       "      <td>5.300000e+01</td>\n",
       "      <td>9.980000e+02</td>\n",
       "      <td>8.000000e+00</td>\n",
       "      <td>2.100000e+01</td>\n",
       "      <td>0.000000e+00</td>\n",
       "      <td>0.000000e+00</td>\n",
       "      <td>2.100000e+01</td>\n",
       "      <td>0.000000e+00</td>\n",
       "      <td>1.500000e+01</td>\n",
       "      <td>0.000000e+00</td>\n",
       "      <td>3.300000e+01</td>\n",
       "    </tr>\n",
       "    <tr>\n",
       "      <th>max</th>\n",
       "      <td>7.009727e+06</td>\n",
       "      <td>2008.0</td>\n",
       "      <td>1.200000e+01</td>\n",
       "      <td>3.100000e+01</td>\n",
       "      <td>7.000000e+00</td>\n",
       "      <td>2.400000e+03</td>\n",
       "      <td>2.359000e+03</td>\n",
       "      <td>2.400000e+03</td>\n",
       "      <td>2.400000e+03</td>\n",
       "      <td>9.742000e+03</td>\n",
       "      <td>1.114000e+03</td>\n",
       "      <td>6.600000e+02</td>\n",
       "      <td>1.091000e+03</td>\n",
       "      <td>2.461000e+03</td>\n",
       "      <td>2.467000e+03</td>\n",
       "      <td>4.962000e+03</td>\n",
       "      <td>2.400000e+02</td>\n",
       "      <td>4.220000e+02</td>\n",
       "      <td>1.000000e+00</td>\n",
       "      <td>1.000000e+00</td>\n",
       "      <td>2.436000e+03</td>\n",
       "      <td>1.352000e+03</td>\n",
       "      <td>1.357000e+03</td>\n",
       "      <td>3.920000e+02</td>\n",
       "      <td>1.316000e+03</td>\n",
       "    </tr>\n",
       "  </tbody>\n",
       "</table>\n",
       "</div>"
      ],
      "text/plain": [
       "         Unnamed: 0       Year         Month    DayofMonth     DayOfWeek  \\\n",
       "count  1.936758e+06  1936758.0  1.936758e+06  1.936758e+06  1.936758e+06   \n",
       "mean   3.341651e+06     2008.0  6.111106e+00  1.575347e+01  3.984827e+00   \n",
       "std    2.066065e+06        0.0  3.482546e+00  8.776272e+00  1.995966e+00   \n",
       "min    0.000000e+00     2008.0  1.000000e+00  1.000000e+00  1.000000e+00   \n",
       "25%    1.517452e+06     2008.0  3.000000e+00  8.000000e+00  2.000000e+00   \n",
       "50%    3.242558e+06     2008.0  6.000000e+00  1.600000e+01  4.000000e+00   \n",
       "75%    4.972467e+06     2008.0  9.000000e+00  2.300000e+01  6.000000e+00   \n",
       "max    7.009727e+06     2008.0  1.200000e+01  3.100000e+01  7.000000e+00   \n",
       "\n",
       "            DepTime    CRSDepTime       ArrTime    CRSArrTime     FlightNum  \\\n",
       "count  1.936758e+06  1.936758e+06  1.929648e+06  1.936758e+06  1.936758e+06   \n",
       "mean   1.518534e+03  1.467473e+03  1.610141e+03  1.634225e+03  2.184263e+03   \n",
       "std    4.504853e+02  4.247668e+02  5.481781e+02  4.646347e+02  1.944702e+03   \n",
       "min    1.000000e+00  0.000000e+00  1.000000e+00  0.000000e+00  1.000000e+00   \n",
       "25%    1.203000e+03  1.135000e+03  1.316000e+03  1.325000e+03  6.100000e+02   \n",
       "50%    1.545000e+03  1.510000e+03  1.715000e+03  1.705000e+03  1.543000e+03   \n",
       "75%    1.900000e+03  1.815000e+03  2.030000e+03  2.014000e+03  3.422000e+03   \n",
       "max    2.400000e+03  2.359000e+03  2.400000e+03  2.400000e+03  9.742000e+03   \n",
       "\n",
       "       ActualElapsedTime  CRSElapsedTime       AirTime      ArrDelay  \\\n",
       "count       1.928371e+06    1.936560e+06  1.928371e+06  1.928371e+06   \n",
       "mean        1.333059e+02    1.343027e+02  1.082771e+02  4.219988e+01   \n",
       "std         7.206007e+01    7.134144e+01  6.864261e+01  5.678472e+01   \n",
       "min         1.400000e+01   -2.500000e+01  0.000000e+00 -1.090000e+02   \n",
       "25%         8.000000e+01    8.200000e+01  5.800000e+01  9.000000e+00   \n",
       "50%         1.160000e+02    1.160000e+02  9.000000e+01  2.400000e+01   \n",
       "75%         1.650000e+02    1.650000e+02  1.370000e+02  5.600000e+01   \n",
       "max         1.114000e+03    6.600000e+02  1.091000e+03  2.461000e+03   \n",
       "\n",
       "           DepDelay      Distance        TaxiIn       TaxiOut     Cancelled  \\\n",
       "count  1.936758e+06  1.936758e+06  1.929648e+06  1.936303e+06  1.936758e+06   \n",
       "mean   4.318518e+01  7.656862e+02  6.812975e+00  1.823220e+01  3.268348e-04   \n",
       "std    5.340250e+01  5.744797e+02  5.273595e+00  1.433853e+01  1.807562e-02   \n",
       "min    6.000000e+00  1.100000e+01  0.000000e+00  0.000000e+00  0.000000e+00   \n",
       "25%    1.200000e+01  3.380000e+02  4.000000e+00  1.000000e+01  0.000000e+00   \n",
       "50%    2.400000e+01  6.060000e+02  6.000000e+00  1.400000e+01  0.000000e+00   \n",
       "75%    5.300000e+01  9.980000e+02  8.000000e+00  2.100000e+01  0.000000e+00   \n",
       "max    2.467000e+03  4.962000e+03  2.400000e+02  4.220000e+02  1.000000e+00   \n",
       "\n",
       "           Diverted  CarrierDelay  WeatherDelay      NASDelay  SecurityDelay  \\\n",
       "count  1.936758e+06  1.247488e+06  1.247488e+06  1.247488e+06   1.247488e+06   \n",
       "mean   4.003598e-03  1.917940e+01  3.703571e+00  1.502164e+01   9.013714e-02   \n",
       "std    6.314722e-02  4.354621e+01  2.149290e+01  3.383305e+01   2.022714e+00   \n",
       "min    0.000000e+00  0.000000e+00  0.000000e+00  0.000000e+00   0.000000e+00   \n",
       "25%    0.000000e+00  0.000000e+00  0.000000e+00  0.000000e+00   0.000000e+00   \n",
       "50%    0.000000e+00  2.000000e+00  0.000000e+00  2.000000e+00   0.000000e+00   \n",
       "75%    0.000000e+00  2.100000e+01  0.000000e+00  1.500000e+01   0.000000e+00   \n",
       "max    1.000000e+00  2.436000e+03  1.352000e+03  1.357000e+03   3.920000e+02   \n",
       "\n",
       "       LateAircraftDelay  \n",
       "count       1.247488e+06  \n",
       "mean        2.529647e+01  \n",
       "std         4.205486e+01  \n",
       "min         0.000000e+00  \n",
       "25%         0.000000e+00  \n",
       "50%         8.000000e+00  \n",
       "75%         3.300000e+01  \n",
       "max         1.316000e+03  "
      ]
     },
     "execution_count": 54,
     "metadata": {},
     "output_type": "execute_result"
    }
   ],
   "source": [
    "raw_df.describe()"
   ]
  },
  {
   "cell_type": "code",
   "execution_count": 55,
   "id": "2173a023",
   "metadata": {},
   "outputs": [
    {
     "data": {
      "text/plain": [
       "(1936758, 30)"
      ]
     },
     "execution_count": 55,
     "metadata": {},
     "output_type": "execute_result"
    }
   ],
   "source": [
    "raw_df.shape"
   ]
  },
  {
   "cell_type": "code",
   "execution_count": 56,
   "id": "805f8b82",
   "metadata": {},
   "outputs": [
    {
     "data": {
      "text/plain": [
       "Unnamed: 0             int64\n",
       "Year                   int64\n",
       "Month                  int64\n",
       "DayofMonth             int64\n",
       "DayOfWeek              int64\n",
       "DepTime              float64\n",
       "CRSDepTime             int64\n",
       "ArrTime              float64\n",
       "CRSArrTime             int64\n",
       "UniqueCarrier         object\n",
       "FlightNum              int64\n",
       "TailNum               object\n",
       "ActualElapsedTime    float64\n",
       "CRSElapsedTime       float64\n",
       "AirTime              float64\n",
       "ArrDelay             float64\n",
       "DepDelay             float64\n",
       "Origin                object\n",
       "Dest                  object\n",
       "Distance               int64\n",
       "TaxiIn               float64\n",
       "TaxiOut              float64\n",
       "Cancelled              int64\n",
       "CancellationCode      object\n",
       "Diverted               int64\n",
       "CarrierDelay         float64\n",
       "WeatherDelay         float64\n",
       "NASDelay             float64\n",
       "SecurityDelay        float64\n",
       "LateAircraftDelay    float64\n",
       "dtype: object"
      ]
     },
     "execution_count": 56,
     "metadata": {},
     "output_type": "execute_result"
    }
   ],
   "source": [
    "raw_df.dtypes"
   ]
  },
  {
   "cell_type": "markdown",
   "id": "14d1ede3",
   "metadata": {},
   "source": [
    "### Nivell 1\n",
    "\n",
    "- **Exercici 1:**\n",
    "\n",
    "Crea almenys tres models de regressió diferents per intentar predir el millor possible l’endarreriment dels vols (ArrDelay) de DelayedFlights.csv."
   ]
  },
  {
   "cell_type": "markdown",
   "id": "084f98b7",
   "metadata": {},
   "source": [
    "Modelo de regresión lineal. Para poder empezar a trabajar con él, se tratan los datos NaN para la columna ArrDelay reemplazando por el valor de la media de ArrDelay. Se extraen los datos que interesa predecir, el retraso de salida y el retraso de llegada de los aviones. Se creará el modelo y su ajuste posterior para obtener los datos de predicción."
   ]
  },
  {
   "cell_type": "code",
   "execution_count": 57,
   "id": "7a09011c",
   "metadata": {},
   "outputs": [],
   "source": [
    "raw_df['ArrDelay']=raw_df['ArrDelay'].fillna(raw_df['ArrDelay'].mean())"
   ]
  },
  {
   "cell_type": "code",
   "execution_count": 58,
   "id": "d6e9934d",
   "metadata": {},
   "outputs": [],
   "source": [
    "x = np.array(raw_df['DepDelay']).reshape((-1, 1))\n",
    "y = np.array(raw_df['ArrDelay'])"
   ]
  },
  {
   "cell_type": "code",
   "execution_count": 59,
   "id": "991f5550",
   "metadata": {},
   "outputs": [
    {
     "name": "stdout",
     "output_type": "stream",
     "text": [
      "[[ 8.]\n",
      " [19.]\n",
      " [ 8.]\n",
      " ...\n",
      " [80.]\n",
      " [11.]\n",
      " [ 7.]] [-14.   2.  14. ...  99.   9.  -5.]\n"
     ]
    }
   ],
   "source": [
    "print (x,y)"
   ]
  },
  {
   "cell_type": "code",
   "execution_count": 60,
   "id": "7e40f16e",
   "metadata": {},
   "outputs": [],
   "source": [
    "model = LinearRegression().fit(x, y)\n",
    "r_sq = model.score(x, y)"
   ]
  },
  {
   "cell_type": "code",
   "execution_count": 61,
   "id": "78dda15f",
   "metadata": {},
   "outputs": [
    {
     "name": "stdout",
     "output_type": "stream",
     "text": [
      "coefficient of determination: 0.8995207508716909\n",
      "intercept: -1.2579166978369898\n",
      "slope: [1.00631293]\n"
     ]
    }
   ],
   "source": [
    "print('coefficient of determination:', r_sq)\n",
    "print('intercept:', model.intercept_)\n",
    "print('slope:', model.coef_)"
   ]
  },
  {
   "cell_type": "code",
   "execution_count": 62,
   "id": "225ec3fa",
   "metadata": {},
   "outputs": [
    {
     "name": "stdout",
     "output_type": "stream",
     "text": [
      "predicted response:\n",
      "[ 6.79258674 17.86202898  6.79258674 ... 79.24711772  9.81152553\n",
      "  5.78627381]\n"
     ]
    }
   ],
   "source": [
    "y_pred = model.predict(x)\n",
    "print('predicted response:', y_pred, sep='\\n')"
   ]
  },
  {
   "cell_type": "markdown",
   "id": "39a266a1",
   "metadata": {},
   "source": [
    "Se prepara el modelo de regresión polynomial. Este modelo requiere una tranformación del input para incluir el valor de 𝑥² en el array X. Una vez realizado, se ajusta al modelo y se obtienen las predicciones."
   ]
  },
  {
   "cell_type": "code",
   "execution_count": 63,
   "id": "14477166",
   "metadata": {},
   "outputs": [],
   "source": [
    "x_2 = PolynomialFeatures(degree=2, include_bias=False).fit_transform(x)"
   ]
  },
  {
   "cell_type": "code",
   "execution_count": 64,
   "id": "4da8ca04",
   "metadata": {},
   "outputs": [
    {
     "name": "stdout",
     "output_type": "stream",
     "text": [
      "[[   8.   64.]\n",
      " [  19.  361.]\n",
      " [   8.   64.]\n",
      " ...\n",
      " [  80. 6400.]\n",
      " [  11.  121.]\n",
      " [   7.   49.]]\n"
     ]
    }
   ],
   "source": [
    "print (x_2)"
   ]
  },
  {
   "cell_type": "code",
   "execution_count": 65,
   "id": "4392262f",
   "metadata": {},
   "outputs": [],
   "source": [
    "model_2 = LinearRegression().fit(x_2, y)"
   ]
  },
  {
   "cell_type": "code",
   "execution_count": 66,
   "id": "2f5345a5",
   "metadata": {},
   "outputs": [
    {
     "name": "stdout",
     "output_type": "stream",
     "text": [
      "coefficient of determination: 0.8995862528489823\n",
      "intercept: -1.5303942104420258\n",
      "coefficients: [ 1.01579534e+00 -2.90498437e-05]\n"
     ]
    }
   ],
   "source": [
    "r_sq_2 = model_2.score(x_2, y)\n",
    "print('coefficient of determination:', r_sq_2)\n",
    "print('intercept:', model_2.intercept_)\n",
    "print('coefficients:', model_2.coef_)"
   ]
  },
  {
   "cell_type": "code",
   "execution_count": 67,
   "id": "f58b53e4",
   "metadata": {},
   "outputs": [
    {
     "name": "stdout",
     "output_type": "stream",
     "text": [
      "[ 6.59410929 17.75923019  6.59410929 ... 79.54731371  9.63983946\n",
      "  5.5787497 ]\n"
     ]
    }
   ],
   "source": [
    "y_pred_2 = model_2.predict(x_2)\n",
    "print (y_pred_2)"
   ]
  },
  {
   "cell_type": "markdown",
   "id": "6da88dc6",
   "metadata": {},
   "source": [
    "Advanced Linear Regression con statsmodels. Una forma de obtener una regresión lineal que aporta más detalles que la regresión lineal"
   ]
  },
  {
   "cell_type": "code",
   "execution_count": 68,
   "id": "dd553854",
   "metadata": {},
   "outputs": [],
   "source": [
    "x_3 = sm.add_constant(x_2)"
   ]
  },
  {
   "cell_type": "code",
   "execution_count": 69,
   "id": "d2474431",
   "metadata": {},
   "outputs": [
    {
     "name": "stdout",
     "output_type": "stream",
     "text": [
      "[[1.00e+00 8.00e+00 6.40e+01]\n",
      " [1.00e+00 1.90e+01 3.61e+02]\n",
      " [1.00e+00 8.00e+00 6.40e+01]\n",
      " ...\n",
      " [1.00e+00 8.00e+01 6.40e+03]\n",
      " [1.00e+00 1.10e+01 1.21e+02]\n",
      " [1.00e+00 7.00e+00 4.90e+01]]\n"
     ]
    }
   ],
   "source": [
    "print (x_3)"
   ]
  },
  {
   "cell_type": "code",
   "execution_count": 70,
   "id": "9524b520",
   "metadata": {},
   "outputs": [],
   "source": [
    "model_3 = sm.OLS(y, x_3)"
   ]
  },
  {
   "cell_type": "code",
   "execution_count": 71,
   "id": "28ab5cd5",
   "metadata": {},
   "outputs": [],
   "source": [
    "results = model_3.fit()"
   ]
  },
  {
   "cell_type": "code",
   "execution_count": 72,
   "id": "008f9f78",
   "metadata": {},
   "outputs": [
    {
     "name": "stdout",
     "output_type": "stream",
     "text": [
      "                            OLS Regression Results                            \n",
      "==============================================================================\n",
      "Dep. Variable:                      y   R-squared:                       0.900\n",
      "Model:                            OLS   Adj. R-squared:                  0.900\n",
      "Method:                 Least Squares   F-statistic:                 8.675e+06\n",
      "Date:                Fri, 06 May 2022   Prob (F-statistic):               0.00\n",
      "Time:                        15:21:18   Log-Likelihood:            -8.3412e+06\n",
      "No. Observations:             1936758   AIC:                         1.668e+07\n",
      "Df Residuals:                 1936755   BIC:                         1.668e+07\n",
      "Df Model:                           2                                         \n",
      "Covariance Type:            nonrobust                                         \n",
      "==============================================================================\n",
      "                 coef    std err          t      P>|t|      [0.025      0.975]\n",
      "------------------------------------------------------------------------------\n",
      "const         -1.5304      0.018    -83.730      0.000      -1.566      -1.495\n",
      "x1             1.0158      0.000   2822.323      0.000       1.015       1.017\n",
      "x2         -2.905e-05   8.17e-07    -35.544      0.000   -3.07e-05   -2.74e-05\n",
      "==============================================================================\n",
      "Omnibus:                   912921.943   Durbin-Watson:                   1.724\n",
      "Prob(Omnibus):                  0.000   Jarque-Bera (JB):        281254026.155\n",
      "Skew:                           1.045   Prob(JB):                         0.00\n",
      "Kurtosis:                      61.999   Cond. No.                     3.40e+04\n",
      "==============================================================================\n",
      "\n",
      "Notes:\n",
      "[1] Standard Errors assume that the covariance matrix of the errors is correctly specified.\n",
      "[2] The condition number is large, 3.4e+04. This might indicate that there are\n",
      "strong multicollinearity or other numerical problems.\n"
     ]
    }
   ],
   "source": [
    "print(results.summary())"
   ]
  },
  {
   "cell_type": "code",
   "execution_count": 73,
   "id": "95c925ca",
   "metadata": {},
   "outputs": [
    {
     "name": "stdout",
     "output_type": "stream",
     "text": [
      "coefficient of determination: 0.8995862528489823\n",
      "adjusted coefficient of determination: 0.8995861491562105\n",
      "regression coefficients: [-1.53039421e+00  1.01579534e+00 -2.90498437e-05]\n"
     ]
    }
   ],
   "source": [
    "print('coefficient of determination:', results.rsquared)\n",
    "print('adjusted coefficient of determination:', results.rsquared_adj)\n",
    "print('regression coefficients:', results.params)"
   ]
  },
  {
   "cell_type": "code",
   "execution_count": 74,
   "id": "c31082d6",
   "metadata": {},
   "outputs": [
    {
     "name": "stdout",
     "output_type": "stream",
     "text": [
      "predicted response:\n",
      "[ 6.59410929 17.75923019  6.59410929 ... 79.54731371  9.63983946\n",
      "  5.5787497 ]\n"
     ]
    }
   ],
   "source": [
    "print('predicted response:', results.predict(x_3), sep='\\n')"
   ]
  },
  {
   "cell_type": "markdown",
   "id": "4cd33e63",
   "metadata": {},
   "source": [
    "Se realiza un cuarto modelo de regresión, esa vez random forest. Para ello, hay que transformar primero los datos a tipo Integer (random forest solo acepta integer como valor). Después se realiza un train test split y se usará para realizar la predicción de los retrasos.  "
   ]
  },
  {
   "cell_type": "code",
   "execution_count": 75,
   "id": "06d32c5d",
   "metadata": {},
   "outputs": [],
   "source": [
    "X = x.round(0).astype(int)\n",
    "Y = y.round(0).astype(int)"
   ]
  },
  {
   "cell_type": "code",
   "execution_count": 76,
   "id": "66ffcfa4",
   "metadata": {},
   "outputs": [],
   "source": [
    "X_train, X_test, y_train, y_test = train_test_split(x, y , test_size=0.33, random_state=42)"
   ]
  },
  {
   "cell_type": "code",
   "execution_count": 77,
   "id": "dd508e9e",
   "metadata": {},
   "outputs": [],
   "source": [
    "model_4 = RandomForestRegressor(random_state = 42)"
   ]
  },
  {
   "cell_type": "code",
   "execution_count": 78,
   "id": "2b19f259",
   "metadata": {
    "scrolled": true
   },
   "outputs": [
    {
     "data": {
      "text/plain": [
       "RandomForestRegressor(random_state=42)"
      ]
     },
     "execution_count": 78,
     "metadata": {},
     "output_type": "execute_result"
    }
   ],
   "source": [
    "model_4.fit(X_train, y_train)"
   ]
  },
  {
   "cell_type": "code",
   "execution_count": 79,
   "id": "0a6c1f5d",
   "metadata": {},
   "outputs": [],
   "source": [
    "y_pred_4 = model_4.predict(X_test)"
   ]
  },
  {
   "cell_type": "code",
   "execution_count": 80,
   "id": "b5b160bf",
   "metadata": {},
   "outputs": [
    {
     "name": "stdout",
     "output_type": "stream",
     "text": [
      "predicted response:\n",
      "[  8.77399531 434.97427653  19.56738872 ...   6.12044374   4.03793344\n",
      "  29.93782911]\n"
     ]
    }
   ],
   "source": [
    "print('predicted response:', y_pred_4, sep='\\n')"
   ]
  },
  {
   "cell_type": "code",
   "execution_count": 81,
   "id": "ab62863e",
   "metadata": {},
   "outputs": [
    {
     "name": "stdout",
     "output_type": "stream",
     "text": [
      "0.9001126119515857\n"
     ]
    }
   ],
   "source": [
    "r_sq_4 = model_4.score(X, Y)\n",
    "print (r_sq_4)"
   ]
  },
  {
   "cell_type": "markdown",
   "id": "0a651e73",
   "metadata": {},
   "source": [
    "- **Exercici 2:**\n",
    "\n",
    "Compara’ls en base al MSE i al R2."
   ]
  },
  {
   "cell_type": "code",
   "execution_count": 82,
   "id": "8e034d67",
   "metadata": {},
   "outputs": [
    {
     "name": "stdout",
     "output_type": "stream",
     "text": [
      "Mean squared error for all models:\n",
      "Linear Regression model: 322.5925190396327\n",
      "Polynomial Regression: 322.3822224058516\n",
      "Advanced Linear Regression: 322.5925190396327\n",
      "Random Forest: 323.67522778814583\n"
     ]
    }
   ],
   "source": [
    "print('Mean squared error for all models:')\n",
    "print('Linear Regression model:', mean_squared_error(y, y_pred)) \n",
    "print('Polynomial Regression:', mean_squared_error(y, y_pred_2))\n",
    "print('Advanced Linear Regression:', mean_squared_error(y, y_pred))\n",
    "print('Random Forest:', mean_squared_error(y_test, y_pred_4))"
   ]
  },
  {
   "cell_type": "code",
   "execution_count": 83,
   "id": "634f19d0",
   "metadata": {},
   "outputs": [
    {
     "name": "stdout",
     "output_type": "stream",
     "text": [
      "Coefficient of determination for all models:\n",
      "Linear Regression model: 0.8995207508716909\n",
      "Polynomial Regression: 0.8995862528489823\n",
      "Advanced Linear Regression: 0.900\n",
      "Random Forest: 0.9001126119515857\n"
     ]
    }
   ],
   "source": [
    "print('Coefficient of determination for all models:' )\n",
    "print('Linear Regression model:', r_sq)\n",
    "print('Polynomial Regression:', r_sq_2)\n",
    "print('Advanced Linear Regression: 0.900')\n",
    "print('Random Forest:', r_sq_4)"
   ]
  },
  {
   "cell_type": "markdown",
   "id": "38e144a9",
   "metadata": {},
   "source": [
    "- **Exercici 3:**\n",
    "\n",
    "Entrena’ls utilitzant els diferents paràmetres que admeten."
   ]
  },
  {
   "cell_type": "markdown",
   "id": "6c3452b1",
   "metadata": {},
   "source": [
    "Linear Model con n_jobs para controlar el tamaño y el tiempo de ejecución, ya que es un dataset bastsante amplio. El siguiente es controlar con fit_intercept, que se encargará de encontar el mejor fiting."
   ]
  },
  {
   "cell_type": "code",
   "execution_count": 84,
   "id": "fa9abc1a",
   "metadata": {
    "scrolled": true
   },
   "outputs": [
    {
     "name": "stdout",
     "output_type": "stream",
     "text": [
      "coefficient of determination: 0.8995207508716909\n"
     ]
    },
    {
     "name": "stderr",
     "output_type": "stream",
     "text": [
      "/opt/anaconda3/lib/python3.9/site-packages/sklearn/linear_model/_base.py:141: FutureWarning: 'normalize' was deprecated in version 1.0 and will be removed in 1.2.\n",
      "If you wish to scale the data, use Pipeline with a StandardScaler in a preprocessing stage. To reproduce the previous behavior:\n",
      "\n",
      "from sklearn.pipeline import make_pipeline\n",
      "\n",
      "model = make_pipeline(StandardScaler(with_mean=False), LinearRegression())\n",
      "\n",
      "If you wish to pass a sample_weight parameter, you need to pass it as a fit parameter to each step of the pipeline as follows:\n",
      "\n",
      "kwargs = {s[0] + '__sample_weight': sample_weight for s in model.steps}\n",
      "model.fit(X, y, **kwargs)\n",
      "\n",
      "\n",
      "  warnings.warn(\n"
     ]
    }
   ],
   "source": [
    "linear_model = LinearRegression(n_jobs=-1, normalize=True).fit(x, y)\n",
    "sq1 = linear_model.score(x, y)\n",
    "print('coefficient of determination:', sq1) "
   ]
  },
  {
   "cell_type": "code",
   "execution_count": 85,
   "id": "8b454b61",
   "metadata": {},
   "outputs": [
    {
     "name": "stdout",
     "output_type": "stream",
     "text": [
      "coefficient of determination: 0.8992227601508445\n"
     ]
    }
   ],
   "source": [
    "linear_model_2 = LinearRegression(fit_intercept=False).fit(x, y) \n",
    "sq2 = linear_model_2.score(x, y)\n",
    "print('coefficient of determination:', sq2)"
   ]
  },
  {
   "cell_type": "code",
   "execution_count": 86,
   "id": "a22e9e60",
   "metadata": {},
   "outputs": [
    {
     "name": "stdout",
     "output_type": "stream",
     "text": [
      "coefficient of determination: 0.3112766341229223\n"
     ]
    }
   ],
   "source": [
    "linear_model_3 = LinearRegression(copy_X=False).fit(x, y)\n",
    "sq3 = linear_model_3.score(x, y)\n",
    "print('coefficient of determination:', sq3) \n"
   ]
  },
  {
   "cell_type": "markdown",
   "id": "cb27f7a9",
   "metadata": {},
   "source": [
    "Entreno de modelos con randomforest. Se controla con max_features el tamaño del split que sea igual a sqrt. También se crea u segundo modelo, que por cuestiones de tamao construye 50 estimaciones. "
   ]
  },
  {
   "cell_type": "code",
   "execution_count": 87,
   "id": "e7b48569",
   "metadata": {},
   "outputs": [
    {
     "name": "stdout",
     "output_type": "stream",
     "text": [
      "coefficient of determination: 0.9001240244300632\n"
     ]
    }
   ],
   "source": [
    "random_forest_model = RandomForestRegressor(max_features = 'sqrt', random_state = 42).fit(X_train,y_train)\n",
    "rf_sq = random_forest_model.score(X, y)\n",
    "print('coefficient of determination:', rf_sq)"
   ]
  },
  {
   "cell_type": "code",
   "execution_count": 88,
   "id": "e293a3cf",
   "metadata": {},
   "outputs": [
    {
     "name": "stdout",
     "output_type": "stream",
     "text": [
      "building tree 1 of 50\n"
     ]
    },
    {
     "name": "stderr",
     "output_type": "stream",
     "text": [
      "[Parallel(n_jobs=1)]: Using backend SequentialBackend with 1 concurrent workers.\n",
      "[Parallel(n_jobs=1)]: Done   1 out of   1 | elapsed:    0.5s remaining:    0.0s\n"
     ]
    },
    {
     "name": "stdout",
     "output_type": "stream",
     "text": [
      "building tree 2 of 50\n",
      "building tree 3 of 50\n",
      "building tree 4 of 50\n",
      "building tree 5 of 50\n",
      "building tree 6 of 50\n",
      "building tree 7 of 50\n",
      "building tree 8 of 50\n",
      "building tree 9 of 50\n",
      "building tree 10 of 50\n",
      "building tree 11 of 50\n",
      "building tree 12 of 50\n",
      "building tree 13 of 50\n",
      "building tree 14 of 50\n",
      "building tree 15 of 50\n",
      "building tree 16 of 50\n",
      "building tree 17 of 50\n",
      "building tree 18 of 50\n",
      "building tree 19 of 50\n",
      "building tree 20 of 50\n",
      "building tree 21 of 50\n",
      "building tree 22 of 50\n",
      "building tree 23 of 50\n",
      "building tree 24 of 50\n",
      "building tree 25 of 50\n",
      "building tree 26 of 50\n",
      "building tree 27 of 50\n",
      "building tree 28 of 50\n",
      "building tree 29 of 50\n",
      "building tree 30 of 50\n",
      "building tree 31 of 50\n",
      "building tree 32 of 50\n",
      "building tree 33 of 50\n",
      "building tree 34 of 50\n",
      "building tree 35 of 50\n",
      "building tree 36 of 50\n",
      "building tree 37 of 50\n",
      "building tree 38 of 50\n",
      "building tree 39 of 50\n",
      "building tree 40 of 50\n",
      "building tree 41 of 50\n",
      "building tree 42 of 50\n",
      "building tree 43 of 50\n",
      "building tree 44 of 50\n",
      "building tree 45 of 50\n",
      "building tree 46 of 50\n",
      "building tree 47 of 50\n",
      "building tree 48 of 50\n",
      "building tree 49 of 50\n",
      "building tree 50 of 50\n"
     ]
    },
    {
     "name": "stderr",
     "output_type": "stream",
     "text": [
      "[Parallel(n_jobs=1)]: Done  50 out of  50 | elapsed:   27.6s finished\n",
      "[Parallel(n_jobs=1)]: Using backend SequentialBackend with 1 concurrent workers.\n",
      "[Parallel(n_jobs=1)]: Done   1 out of   1 | elapsed:    0.1s remaining:    0.0s\n"
     ]
    },
    {
     "name": "stdout",
     "output_type": "stream",
     "text": [
      "coefficient of determination: 0.9001170518469798\n"
     ]
    },
    {
     "name": "stderr",
     "output_type": "stream",
     "text": [
      "[Parallel(n_jobs=1)]: Done  50 out of  50 | elapsed:    4.6s finished\n"
     ]
    }
   ],
   "source": [
    "random_forest_model_2 = RandomForestRegressor(n_estimators = 50, random_state = 42, bootstrap = True, verbose=2).fit(X_train,y_train) \n",
    "rf_sq2 = random_forest_model_2.score(X, y)\n",
    "print('coefficient of determination:', rf_sq2)"
   ]
  },
  {
   "cell_type": "code",
   "execution_count": 89,
   "id": "58ac35f2",
   "metadata": {},
   "outputs": [
    {
     "name": "stdout",
     "output_type": "stream",
     "text": [
      "coefficient of determination: 0.7662742824995042\n"
     ]
    }
   ],
   "source": [
    "random_forest_model_3 = RandomForestRegressor(n_estimators = 200, max_depth=2, random_state=0).fit(X_train,y_train) \n",
    "rf_sq3 = random_forest_model_3.score(X, y)\n",
    "print('coefficient of determination:', rf_sq3) "
   ]
  },
  {
   "cell_type": "markdown",
   "id": "bc37d42b",
   "metadata": {},
   "source": [
    "Finalmente, el modelo Polynomial"
   ]
  },
  {
   "cell_type": "code",
   "execution_count": 91,
   "id": "7eada603",
   "metadata": {},
   "outputs": [
    {
     "name": "stdout",
     "output_type": "stream",
     "text": [
      "coefficient of determination: 0.8992227601508445\n"
     ]
    }
   ],
   "source": [
    "model_2 = LinearRegression(fit_intercept=False).fit(X, y) \n",
    "r_sq2 = model_2.score(X, y)\n",
    "print('coefficient of determination:', r_sq2) "
   ]
  },
  {
   "cell_type": "code",
   "execution_count": 92,
   "id": "50cf028c",
   "metadata": {},
   "outputs": [],
   "source": [
    "model_3 = LinearRegression(copy_X=False).fit(X, y) \n",
    "r_sq3 = model_3.score(X, y)"
   ]
  },
  {
   "cell_type": "markdown",
   "id": "c9fffbef",
   "metadata": {},
   "source": [
    "- **Exercici 4:**\n",
    "\n",
    "Compara el seu rendiment utilitzant l’aproximació traint/test o utilitzant totes les dades (validació interna)."
   ]
  },
  {
   "cell_type": "markdown",
   "id": "c92d3686",
   "metadata": {},
   "source": [
    "Regresión lineal simple. Resultados impresos en un Dataset."
   ]
  },
  {
   "cell_type": "code",
   "execution_count": 93,
   "id": "ebf44f94",
   "metadata": {},
   "outputs": [],
   "source": [
    "X_train, X_test, y_train, y_test = train_test_split(x, y , test_size=0.33, random_state=42)"
   ]
  },
  {
   "cell_type": "code",
   "execution_count": 94,
   "id": "4dc97b33",
   "metadata": {},
   "outputs": [],
   "source": [
    "model = LinearRegression().fit(X_train, y_train)\n",
    "model.score(X_train, y_train)\n",
    "pred = model.predict(X_test)"
   ]
  },
  {
   "cell_type": "code",
   "execution_count": 95,
   "id": "2f0d4a1b",
   "metadata": {},
   "outputs": [
    {
     "data": {
      "text/html": [
       "<div>\n",
       "<style scoped>\n",
       "    .dataframe tbody tr th:only-of-type {\n",
       "        vertical-align: middle;\n",
       "    }\n",
       "\n",
       "    .dataframe tbody tr th {\n",
       "        vertical-align: top;\n",
       "    }\n",
       "\n",
       "    .dataframe thead th {\n",
       "        text-align: right;\n",
       "    }\n",
       "</style>\n",
       "<table border=\"1\" class=\"dataframe\">\n",
       "  <thead>\n",
       "    <tr style=\"text-align: right;\">\n",
       "      <th></th>\n",
       "      <th>Original data</th>\n",
       "      <th>Predicted data</th>\n",
       "    </tr>\n",
       "  </thead>\n",
       "  <tbody>\n",
       "    <tr>\n",
       "      <th>0</th>\n",
       "      <td>71.0</td>\n",
       "      <td>8.798748</td>\n",
       "    </tr>\n",
       "    <tr>\n",
       "      <th>1</th>\n",
       "      <td>548.0</td>\n",
       "      <td>562.393604</td>\n",
       "    </tr>\n",
       "    <tr>\n",
       "      <th>2</th>\n",
       "      <td>9.0</td>\n",
       "      <td>19.870645</td>\n",
       "    </tr>\n",
       "    <tr>\n",
       "      <th>3</th>\n",
       "      <td>52.0</td>\n",
       "      <td>53.086336</td>\n",
       "    </tr>\n",
       "    <tr>\n",
       "      <th>4</th>\n",
       "      <td>22.0</td>\n",
       "      <td>5.779139</td>\n",
       "    </tr>\n",
       "    <tr>\n",
       "      <th>...</th>\n",
       "      <td>...</td>\n",
       "      <td>...</td>\n",
       "    </tr>\n",
       "    <tr>\n",
       "      <th>639126</th>\n",
       "      <td>51.0</td>\n",
       "      <td>80.262811</td>\n",
       "    </tr>\n",
       "    <tr>\n",
       "      <th>639127</th>\n",
       "      <td>158.0</td>\n",
       "      <td>166.824916</td>\n",
       "    </tr>\n",
       "    <tr>\n",
       "      <th>639128</th>\n",
       "      <td>6.0</td>\n",
       "      <td>6.785675</td>\n",
       "    </tr>\n",
       "    <tr>\n",
       "      <th>639129</th>\n",
       "      <td>-3.0</td>\n",
       "      <td>4.772603</td>\n",
       "    </tr>\n",
       "    <tr>\n",
       "      <th>639130</th>\n",
       "      <td>42.0</td>\n",
       "      <td>29.936006</td>\n",
       "    </tr>\n",
       "  </tbody>\n",
       "</table>\n",
       "<p>639131 rows × 2 columns</p>\n",
       "</div>"
      ],
      "text/plain": [
       "        Original data  Predicted data\n",
       "0                71.0        8.798748\n",
       "1               548.0      562.393604\n",
       "2                 9.0       19.870645\n",
       "3                52.0       53.086336\n",
       "4                22.0        5.779139\n",
       "...               ...             ...\n",
       "639126           51.0       80.262811\n",
       "639127          158.0      166.824916\n",
       "639128            6.0        6.785675\n",
       "639129           -3.0        4.772603\n",
       "639130           42.0       29.936006\n",
       "\n",
       "[639131 rows x 2 columns]"
      ]
     },
     "execution_count": 95,
     "metadata": {},
     "output_type": "execute_result"
    }
   ],
   "source": [
    "df = pd.DataFrame({'Original data': y_test, 'Predicted data': pred})\n",
    "df"
   ]
  },
  {
   "cell_type": "markdown",
   "id": "5e519e21",
   "metadata": {},
   "source": [
    "Random Forest con resultados impresos en un dataset"
   ]
  },
  {
   "cell_type": "code",
   "execution_count": 96,
   "id": "9362e1cf",
   "metadata": {},
   "outputs": [],
   "source": [
    "model2 = RandomForestRegressor(random_state = 42).fit(X_train,y_train)\n",
    "model2.score(X_train, y_train)\n",
    "pred2=model.predict(X_test)"
   ]
  },
  {
   "cell_type": "code",
   "execution_count": 97,
   "id": "df5b90aa",
   "metadata": {},
   "outputs": [
    {
     "data": {
      "text/html": [
       "<div>\n",
       "<style scoped>\n",
       "    .dataframe tbody tr th:only-of-type {\n",
       "        vertical-align: middle;\n",
       "    }\n",
       "\n",
       "    .dataframe tbody tr th {\n",
       "        vertical-align: top;\n",
       "    }\n",
       "\n",
       "    .dataframe thead th {\n",
       "        text-align: right;\n",
       "    }\n",
       "</style>\n",
       "<table border=\"1\" class=\"dataframe\">\n",
       "  <thead>\n",
       "    <tr style=\"text-align: right;\">\n",
       "      <th></th>\n",
       "      <th>Original data</th>\n",
       "      <th>Predicted data</th>\n",
       "    </tr>\n",
       "  </thead>\n",
       "  <tbody>\n",
       "    <tr>\n",
       "      <th>0</th>\n",
       "      <td>71.0</td>\n",
       "      <td>8.798748</td>\n",
       "    </tr>\n",
       "    <tr>\n",
       "      <th>1</th>\n",
       "      <td>548.0</td>\n",
       "      <td>562.393604</td>\n",
       "    </tr>\n",
       "    <tr>\n",
       "      <th>2</th>\n",
       "      <td>9.0</td>\n",
       "      <td>19.870645</td>\n",
       "    </tr>\n",
       "    <tr>\n",
       "      <th>3</th>\n",
       "      <td>52.0</td>\n",
       "      <td>53.086336</td>\n",
       "    </tr>\n",
       "    <tr>\n",
       "      <th>4</th>\n",
       "      <td>22.0</td>\n",
       "      <td>5.779139</td>\n",
       "    </tr>\n",
       "    <tr>\n",
       "      <th>...</th>\n",
       "      <td>...</td>\n",
       "      <td>...</td>\n",
       "    </tr>\n",
       "    <tr>\n",
       "      <th>639126</th>\n",
       "      <td>51.0</td>\n",
       "      <td>80.262811</td>\n",
       "    </tr>\n",
       "    <tr>\n",
       "      <th>639127</th>\n",
       "      <td>158.0</td>\n",
       "      <td>166.824916</td>\n",
       "    </tr>\n",
       "    <tr>\n",
       "      <th>639128</th>\n",
       "      <td>6.0</td>\n",
       "      <td>6.785675</td>\n",
       "    </tr>\n",
       "    <tr>\n",
       "      <th>639129</th>\n",
       "      <td>-3.0</td>\n",
       "      <td>4.772603</td>\n",
       "    </tr>\n",
       "    <tr>\n",
       "      <th>639130</th>\n",
       "      <td>42.0</td>\n",
       "      <td>29.936006</td>\n",
       "    </tr>\n",
       "  </tbody>\n",
       "</table>\n",
       "<p>639131 rows × 2 columns</p>\n",
       "</div>"
      ],
      "text/plain": [
       "        Original data  Predicted data\n",
       "0                71.0        8.798748\n",
       "1               548.0      562.393604\n",
       "2                 9.0       19.870645\n",
       "3                52.0       53.086336\n",
       "4                22.0        5.779139\n",
       "...               ...             ...\n",
       "639126           51.0       80.262811\n",
       "639127          158.0      166.824916\n",
       "639128            6.0        6.785675\n",
       "639129           -3.0        4.772603\n",
       "639130           42.0       29.936006\n",
       "\n",
       "[639131 rows x 2 columns]"
      ]
     },
     "execution_count": 97,
     "metadata": {},
     "output_type": "execute_result"
    }
   ],
   "source": [
    "df2 = pd.DataFrame({'Original data': y_test, 'Predicted data': pred2})\n",
    "df2"
   ]
  },
  {
   "cell_type": "markdown",
   "id": "257ed451",
   "metadata": {},
   "source": [
    "Polynomial con resultados en un nuevo dataset."
   ]
  },
  {
   "cell_type": "code",
   "execution_count": 99,
   "id": "9c65aa8e",
   "metadata": {},
   "outputs": [],
   "source": [
    "X = PolynomialFeatures(degree=4, include_bias=False).fit_transform(X)\n",
    "X_train, X_test, y_train, y_test = train_test_split(X, y, test_size=0.2, random_state=0)\n",
    "model = LinearRegression().fit(X_train, y_train) \n",
    "pred3 = model.predict(X_test) "
   ]
  },
  {
   "cell_type": "code",
   "execution_count": 100,
   "id": "c1afa6a8",
   "metadata": {},
   "outputs": [
    {
     "data": {
      "text/html": [
       "<div>\n",
       "<style scoped>\n",
       "    .dataframe tbody tr th:only-of-type {\n",
       "        vertical-align: middle;\n",
       "    }\n",
       "\n",
       "    .dataframe tbody tr th {\n",
       "        vertical-align: top;\n",
       "    }\n",
       "\n",
       "    .dataframe thead th {\n",
       "        text-align: right;\n",
       "    }\n",
       "</style>\n",
       "<table border=\"1\" class=\"dataframe\">\n",
       "  <thead>\n",
       "    <tr style=\"text-align: right;\">\n",
       "      <th></th>\n",
       "      <th>Original data</th>\n",
       "      <th>Predicted data</th>\n",
       "    </tr>\n",
       "  </thead>\n",
       "  <tbody>\n",
       "    <tr>\n",
       "      <th>0</th>\n",
       "      <td>9.0</td>\n",
       "      <td>20.758196</td>\n",
       "    </tr>\n",
       "    <tr>\n",
       "      <th>1</th>\n",
       "      <td>-3.0</td>\n",
       "      <td>5.251061</td>\n",
       "    </tr>\n",
       "    <tr>\n",
       "      <th>2</th>\n",
       "      <td>13.0</td>\n",
       "      <td>20.758196</td>\n",
       "    </tr>\n",
       "    <tr>\n",
       "      <th>3</th>\n",
       "      <td>11.0</td>\n",
       "      <td>14.564190</td>\n",
       "    </tr>\n",
       "    <tr>\n",
       "      <th>4</th>\n",
       "      <td>19.0</td>\n",
       "      <td>17.662649</td>\n",
       "    </tr>\n",
       "    <tr>\n",
       "      <th>...</th>\n",
       "      <td>...</td>\n",
       "      <td>...</td>\n",
       "    </tr>\n",
       "    <tr>\n",
       "      <th>387347</th>\n",
       "      <td>147.0</td>\n",
       "      <td>161.458917</td>\n",
       "    </tr>\n",
       "    <tr>\n",
       "      <th>387348</th>\n",
       "      <td>9.0</td>\n",
       "      <td>17.662649</td>\n",
       "    </tr>\n",
       "    <tr>\n",
       "      <th>387349</th>\n",
       "      <td>36.0</td>\n",
       "      <td>33.111803</td>\n",
       "    </tr>\n",
       "    <tr>\n",
       "      <th>387350</th>\n",
       "      <td>41.0</td>\n",
       "      <td>42.347762</td>\n",
       "    </tr>\n",
       "    <tr>\n",
       "      <th>387351</th>\n",
       "      <td>72.0</td>\n",
       "      <td>60.747623</td>\n",
       "    </tr>\n",
       "  </tbody>\n",
       "</table>\n",
       "<p>387352 rows × 2 columns</p>\n",
       "</div>"
      ],
      "text/plain": [
       "        Original data  Predicted data\n",
       "0                 9.0       20.758196\n",
       "1                -3.0        5.251061\n",
       "2                13.0       20.758196\n",
       "3                11.0       14.564190\n",
       "4                19.0       17.662649\n",
       "...               ...             ...\n",
       "387347          147.0      161.458917\n",
       "387348            9.0       17.662649\n",
       "387349           36.0       33.111803\n",
       "387350           41.0       42.347762\n",
       "387351           72.0       60.747623\n",
       "\n",
       "[387352 rows x 2 columns]"
      ]
     },
     "execution_count": 100,
     "metadata": {},
     "output_type": "execute_result"
    }
   ],
   "source": [
    "df3 = pd.DataFrame({'Original data': y_test, 'Predicted data': pred3})\n",
    "df3"
   ]
  },
  {
   "cell_type": "markdown",
   "id": "610a7f4c",
   "metadata": {},
   "source": [
    "### Nivell 2\n",
    "\n",
    "- **Exercici 5:**\n",
    "\n",
    "Realitza algun procés d’enginyeria de variables per millorar-ne la predicció."
   ]
  },
  {
   "cell_type": "markdown",
   "id": "d2b91977",
   "metadata": {},
   "source": [
    "### Nivell 3\n",
    "\n",
    "- **Exercici 6:**\n",
    "\n",
    "No utilitzis la variable DepDelay a l’hora de fer prediccions."
   ]
  }
 ],
 "metadata": {
  "kernelspec": {
   "display_name": "Python 3 (ipykernel)",
   "language": "python",
   "name": "python3"
  },
  "language_info": {
   "codemirror_mode": {
    "name": "ipython",
    "version": 3
   },
   "file_extension": ".py",
   "mimetype": "text/x-python",
   "name": "python",
   "nbconvert_exporter": "python",
   "pygments_lexer": "ipython3",
   "version": "3.9.7"
  },
  "latex_envs": {
   "LaTeX_envs_menu_present": true,
   "autoclose": false,
   "autocomplete": true,
   "bibliofile": "biblio.bib",
   "cite_by": "apalike",
   "current_citInitial": 1,
   "eqLabelWithNumbers": true,
   "eqNumInitial": 1,
   "hotkeys": {
    "equation": "Ctrl-E",
    "itemize": "Ctrl-I"
   },
   "labels_anchors": false,
   "latex_user_defs": false,
   "report_style_numbering": false,
   "user_envs_cfg": false
  }
 },
 "nbformat": 4,
 "nbformat_minor": 5
}
